{
 "cells": [
  {
   "cell_type": "markdown",
   "metadata": {},
   "source": [
    "# Application of neural networks to mammography-based breast cancer diagnosis\n",
    "\n",
    "*Thomas Templeton - n10118713 ; Parth Parekh - N10425314 ; Utkarsh Sinha - N10354093*\n",
    "\n",
    "**Description:** \n",
    "Development of a sequential convoluted neural network (CNN) designed to identify benign and malignant cancer in mammogram images."
   ]
  },
  {
   "cell_type": "markdown",
   "metadata": {},
   "source": [
    "## Step 0: Set up the Python environment"
   ]
  },
  {
   "cell_type": "code",
   "execution_count": 1,
   "metadata": {},
   "outputs": [
    {
     "name": "stderr",
     "output_type": "stream",
     "text": [
      "Using TensorFlow backend.\n"
     ]
    }
   ],
   "source": [
    "import csv\n",
    "import re\n",
    "from pathlib import Path\n",
    "import numpy as np\n",
    "import matplotlib.pyplot as plt\n",
    "import pydicom as dicom\n",
    "from skimage.measure import block_reduce\n",
    "import tensorflow as tf\n",
    "from tensorflow.keras import Sequential\n",
    "from tensorflow.keras.layers import Conv2D, MaxPooling2D, Flatten, Dense\n",
    "from keras.utils.vis_utils import plot_model\n",
    "from keras.callbacks import ModelCheckpoint\n",
    "from tensorflow.keras.optimizers import RMSprop"
   ]
  },
  {
   "cell_type": "code",
   "execution_count": 2,
   "metadata": {},
   "outputs": [],
   "source": [
    "# Configure plot display inline\n",
    "%matplotlib inline\n",
    "plt.rcParams['figure.figsize'] = [15, 7.5]"
   ]
  },
  {
   "cell_type": "markdown",
   "metadata": {},
   "source": [
    "## Step 1: Import the Data\n",
    "First we need to import the data for the training, validation, and testing of the model. We start by importing the description of the mamography scans which are in the form of a CSV file. We are only interested in the binary diagnosis of Malignant or Benign (BENIGN_WITHOUT_CALLBACK will be included in the Benign diagnosis category)"
   ]
  },
  {
   "cell_type": "code",
   "execution_count": 4,
   "metadata": {},
   "outputs": [],
   "source": [
    "# The path to the description cvs file\n",
    "Description_File = 'D:\\IFN646\\Mamography_Images\\calc_case_description_test_set.csv'\n",
    "\n",
    "# The path to the directory containing all Mamography images\n",
    "BaseDir = \"D:\\IFN646\\Mamography_Images\\CBIS-DDSM\\\\\"\n",
    "\n",
    "# Initialise the empty lists of diagnoses and location of corresponding mammogram image file\n",
    "Diagnoses = []\n",
    "File_Paths = []\n",
    "\n",
    "# Extract diagnoses and file paths\n",
    "with open(Description_File) as csv_file:\n",
    "    csv_reader = csv.reader(csv_file, delimiter=',')\n",
    "    line_count = 0\n",
    "    \n",
    "    for row in csv_reader:\n",
    "        # Skip first line (headers)\n",
    "        if line_count == 0:\n",
    "            line_count += 1\n",
    "        else:\n",
    "            # Extract file path for mammogram image file\n",
    "            Folder = re.findall(r'(.*)(_\\d/)', row[13])[0][0] \n",
    "            for path in Path(BaseDir + Folder).rglob('*.dcm'):\n",
    "                File_Path = str(path)\n",
    "            File_Paths.append(File_Path)\n",
    "            \n",
    "            # Extract diagnoses\n",
    "            Diagnosis = row[9]\n",
    "            if Diagnosis == 'BENIGN_WITHOUT_CALLBACK':\n",
    "                #Reclass BENIGN_WITHOUT_CALLBACK to BENIGN\n",
    "                Diagnosis = 'BENIGN'\n",
    "            Diagnoses.append(Diagnosis)\n",
    "            \n",
    "            line_count += 1"
   ]
  },
  {
   "cell_type": "markdown",
   "metadata": {},
   "source": [
    "## Step 2: Pre-Processing the Data\n",
    "Transform mammogram images into pixel arrays and then down sample and crop the arrays to the desired resolution:"
   ]
  },
  {
   "cell_type": "code",
   "execution_count": 6,
   "metadata": {},
   "outputs": [],
   "source": [
    "# Initialise empty list of pixel arrays\n",
    "PixelArrays = []\n",
    "\n",
    "# Set the desired resolution (dimension) for down sampling and cropping\n",
    "dim = 512\n",
    "\n",
    "# Extraxt mammogram image\n",
    "for File_Path in File_Paths:\n",
    "    dimg = dicom.dcmread(File_Path)\n",
    "    #Convert to pixel array\n",
    "    PixelArray = dimg.pixel_array\n",
    "    \n",
    "    # Down sampling\n",
    "    shape = PixelArray.shape\n",
    "    x_factor = np.int(np.floor(shape[0]/dim))\n",
    "    y_factor = np.int(np.floor(shape[1]/dim))\n",
    "    PixelArray = block_reduce(PixelArray, block_size=(x_factor,y_factor), func=np.mean, cval=np.mean(PixelArray))\n",
    "    \n",
    "    # Cropping\n",
    "    shape = PixelArray.shape\n",
    "    x = shape[0] - dim\n",
    "    y = shape[1] - dim\n",
    "    \n",
    "    start1 = np.int(np.floor(x/2))\n",
    "    end1 = -np.int(np.ceil(x/2))\n",
    "    start2 = np.int(np.floor(y/2))\n",
    "    end2 = -np.int(np.ceil(y/2))\n",
    "    \n",
    "    if y > 0:\n",
    "        PixelArray = PixelArray[:, start2:end2]\n",
    "    if x > 0:\n",
    "        PixelArray = PixelArray[start1:end1, :]   \n",
    "    \n",
    "    PixelArrays.append(PixelArray)"
   ]
  },
  {
   "cell_type": "code",
   "execution_count": 8,
   "metadata": {},
   "outputs": [
    {
     "name": "stdout",
     "output_type": "stream",
     "text": [
      "512 512\n",
      "512 512\n"
     ]
    }
   ],
   "source": [
    "# Check desired resolution has been achieved for all mammograms\n",
    "(MaxX, MaxY) = (0, 0)\n",
    "(MinX, MinY) = (10000, 10000)\n",
    "\n",
    "for Array in PixelArrays:\n",
    "    shape = Array.shape\n",
    "    if shape[0] > MaxX:\n",
    "        MaxX = shape[0]\n",
    "    if shape[1] > MaxY:\n",
    "        MaxY = shape[1]\n",
    "    if shape[0] < MinX:\n",
    "        MinX = shape[0]\n",
    "    if shape[1] < MinY:\n",
    "        MinY = shape[1]\n",
    "print(MaxX, MaxY)\n",
    "print(MinX, MinY)"
   ]
  },
  {
   "cell_type": "markdown",
   "metadata": {},
   "source": [
    "Build a list of binary inputs for the list of diagnoses:"
   ]
  },
  {
   "cell_type": "code",
   "execution_count": 9,
   "metadata": {},
   "outputs": [],
   "source": [
    "# Build bninary classification input for diagnoses (Benign == 0, MALIGNANT == 1)\n",
    "labels = []\n",
    "for diagnosis in Diagnoses:\n",
    "    if diagnosis == 'BENIGN':\n",
    "        labels.append(0)\n",
    "    elif diagnosis == 'MALIGNANT':\n",
    "        labels.append(1)"
   ]
  },
  {
   "cell_type": "markdown",
   "metadata": {},
   "source": [
    "Prepare the data (pixel arrays and binary list of diagnoses) for the CNN. This includes normalising the pixel array values, dividing data into training, validation, and testing sets, and reshaping input vectors to 4D:"
   ]
  },
  {
   "cell_type": "code",
   "execution_count": 10,
   "metadata": {},
   "outputs": [
    {
     "name": "stdout",
     "output_type": "stream",
     "text": [
      "195 195\n",
      "65 65\n",
      "66 66\n",
      "\n",
      "(195, 512, 512, 1)\n",
      "(65, 512, 512, 1)\n",
      "(66, 512, 512, 1)\n"
     ]
    }
   ],
   "source": [
    "# Convert to float32 and rescale between 0 and 1\n",
    "ScaledPixelArrays = []\n",
    "for array in PixelArrays:\n",
    "    new_array = array.astype('float32')\n",
    "    new_array /= 65535\n",
    "    ScaledPixelArrays.append(new_array)\n",
    "\n",
    "# number of training samples (60%), validation samples (20%), and testing samples (20%)\n",
    "n = len(ScaledPixelArrays)\n",
    "n_train = int(n * 0.6)\n",
    "n_val = np.int((n - n_train) / 2)\n",
    "n_test = n - n_train - n_val\n",
    "\n",
    "# Split into training (60%), validation (20%), and testing (20%) \n",
    "train_labels, train_images = labels[:n_train], ScaledPixelArrays[:n_train]\n",
    "val_labels, val_images = labels[n_train:n_train+n_val], ScaledPixelArrays[n_train:n_train+n_val]\n",
    "test_labels, test_images = labels[n_train+n_val:], ScaledPixelArrays[n_train+n_val:]\n",
    "\n",
    "# Convert list to array\n",
    "train_labels, train_images = np.array(train_labels), np.array(train_images)\n",
    "val_labels, val_images = np.array(val_labels), np.array(val_images)\n",
    "test_labels, test_images = np.array(test_labels), np.array(test_images)\n",
    "\n",
    "# Reshape the input arrays to 4D (batch_size, rows, columns, channels)\n",
    "train_images = np.expand_dims(train_images, axis=-1)\n",
    "val_images = np.expand_dims(val_images, axis=-1)\n",
    "test_images = np.expand_dims(test_images, axis=-1)\n",
    "input_shape = train_images.shape[1:]\n",
    "\n",
    "print(len(train_labels), len(train_images))\n",
    "print(len(val_labels), len(val_images))\n",
    "print(len(test_labels), len(test_images))\n",
    "print()\n",
    "print(train_images.shape)\n",
    "print(val_images.shape)\n",
    "print(test_images.shape)"
   ]
  },
  {
   "cell_type": "code",
   "execution_count": 11,
   "metadata": {},
   "outputs": [],
   "source": [
    "# Specify batch size and number of epochs\n",
    "batch_size = 195\n",
    "epochs = 9"
   ]
  },
  {
   "cell_type": "markdown",
   "metadata": {},
   "source": [
    "## Step 2: Building the Convoluted Neural Network (CNN) Model\n",
    "The model chosen for this project was a sequential CNN containing 7 2D convolution + maxPooling layers."
   ]
  },
  {
   "cell_type": "code",
   "execution_count": 29,
   "metadata": {},
   "outputs": [
    {
     "name": "stdout",
     "output_type": "stream",
     "text": [
      "Model: \"sequential_2\"\n",
      "_________________________________________________________________\n",
      "Layer (type)                 Output Shape              Param #   \n",
      "=================================================================\n",
      "conv2d_14 (Conv2D)           (None, 510, 510, 32)      320       \n",
      "_________________________________________________________________\n",
      "max_pooling2d_14 (MaxPooling (None, 255, 255, 32)      0         \n",
      "_________________________________________________________________\n",
      "conv2d_15 (Conv2D)           (None, 253, 253, 64)      18496     \n",
      "_________________________________________________________________\n",
      "max_pooling2d_15 (MaxPooling (None, 126, 126, 64)      0         \n",
      "_________________________________________________________________\n",
      "conv2d_16 (Conv2D)           (None, 124, 124, 64)      36928     \n",
      "_________________________________________________________________\n",
      "max_pooling2d_16 (MaxPooling (None, 62, 62, 64)        0         \n",
      "_________________________________________________________________\n",
      "conv2d_17 (Conv2D)           (None, 60, 60, 64)        36928     \n",
      "_________________________________________________________________\n",
      "max_pooling2d_17 (MaxPooling (None, 30, 30, 64)        0         \n",
      "_________________________________________________________________\n",
      "conv2d_18 (Conv2D)           (None, 28, 28, 128)       73856     \n",
      "_________________________________________________________________\n",
      "max_pooling2d_18 (MaxPooling (None, 14, 14, 128)       0         \n",
      "_________________________________________________________________\n",
      "conv2d_19 (Conv2D)           (None, 12, 12, 128)       147584    \n",
      "_________________________________________________________________\n",
      "max_pooling2d_19 (MaxPooling (None, 6, 6, 128)         0         \n",
      "_________________________________________________________________\n",
      "conv2d_20 (Conv2D)           (None, 4, 4, 128)         147584    \n",
      "_________________________________________________________________\n",
      "max_pooling2d_20 (MaxPooling (None, 2, 2, 128)         0         \n",
      "_________________________________________________________________\n",
      "flatten_2 (Flatten)          (None, 512)               0         \n",
      "_________________________________________________________________\n",
      "dense_4 (Dense)              (None, 128)               65664     \n",
      "_________________________________________________________________\n",
      "dense_5 (Dense)              (None, 1)                 129       \n",
      "=================================================================\n",
      "Total params: 527,489\n",
      "Trainable params: 527,489\n",
      "Non-trainable params: 0\n",
      "_________________________________________________________________\n"
     ]
    }
   ],
   "source": [
    "model = tf.keras.models.Sequential([\n",
    "    \n",
    "    # The first convolution\n",
    "    tf.keras.layers.Conv2D(32, (3,3), activation='relu', input_shape=input_shape),\n",
    "    tf.keras.layers.MaxPooling2D(2, 2),\n",
    "    \n",
    "    # The second convolution\n",
    "    tf.keras.layers.Conv2D(64, (3,3), activation='relu'),\n",
    "    tf.keras.layers.MaxPooling2D(2,2),\n",
    "    \n",
    "    # The third convolution\n",
    "    tf.keras.layers.Conv2D(64, (3,3), activation='relu'),\n",
    "    tf.keras.layers.MaxPooling2D(2,2),\n",
    "\n",
    "    # The fourth convolution\n",
    "    tf.keras.layers.Conv2D(64, (3,3), activation='relu'),\n",
    "    tf.keras.layers.MaxPooling2D(2,2),\n",
    "\n",
    "    # # The fifth convolution\n",
    "    tf.keras.layers.Conv2D(128, (3,3), activation='relu'),\n",
    "    tf.keras.layers.MaxPooling2D(2,2),\n",
    "\n",
    "    # # The sixth convolution\n",
    "    tf.keras.layers.Conv2D(128, (3,3), activation='relu'),\n",
    "    tf.keras.layers.MaxPooling2D(2,2),\n",
    "\n",
    "    # # The seventh convolution\n",
    "    tf.keras.layers.Conv2D(128, (3,3), activation='relu'),\n",
    "    tf.keras.layers.MaxPooling2D(2,2),\n",
    "\n",
    "    # Flatten the results to feed into a DNN\n",
    "    tf.keras.layers.Flatten(),\n",
    "\n",
    "    # 128 neuron hidden layer\n",
    "    tf.keras.layers.Dense(128, activation='relu'),\n",
    "\n",
    "    # Binary output neuron\n",
    "    tf.keras.layers.Dense(1, activation='sigmoid')\n",
    "])\n",
    "\n",
    "model.summary()"
   ]
  },
  {
   "cell_type": "code",
   "execution_count": 30,
   "metadata": {},
   "outputs": [],
   "source": [
    "# Compile CNN\n",
    "model.compile(loss='binary_crossentropy', \n",
    "              optimizer=RMSprop(), \n",
    "              metrics=['accuracy'])"
   ]
  },
  {
   "cell_type": "code",
   "execution_count": 31,
   "metadata": {
    "scrolled": false
   },
   "outputs": [
    {
     "name": "stdout",
     "output_type": "stream",
     "text": [
      "Train on 195 samples, validate on 65 samples\n",
      "Epoch 1/9\n",
      "195/195 [==============================] - 45s 232ms/sample - loss: 0.6933 - accuracy: 0.3949 - val_loss: 0.7280 - val_accuracy: 0.6154\n",
      "Epoch 2/9\n",
      "195/195 [==============================] - 67s 343ms/sample - loss: 0.6986 - accuracy: 0.6410 - val_loss: 0.6919 - val_accuracy: 0.6154\n",
      "Epoch 3/9\n",
      "195/195 [==============================] - 63s 325ms/sample - loss: 0.6918 - accuracy: 0.6410 - val_loss: 0.6842 - val_accuracy: 0.6154\n",
      "Epoch 4/9\n",
      "195/195 [==============================] - 60s 310ms/sample - loss: 0.6831 - accuracy: 0.6410 - val_loss: 0.8303 - val_accuracy: 0.6154\n",
      "Epoch 5/9\n",
      "195/195 [==============================] - 64s 330ms/sample - loss: 0.7677 - accuracy: 0.6410 - val_loss: 0.6894 - val_accuracy: 0.6154\n",
      "Epoch 6/9\n",
      "195/195 [==============================] - 67s 346ms/sample - loss: 0.6888 - accuracy: 0.6410 - val_loss: 0.6872 - val_accuracy: 0.6154\n",
      "Epoch 7/9\n",
      "195/195 [==============================] - 63s 322ms/sample - loss: 0.6862 - accuracy: 0.6410 - val_loss: 0.6849 - val_accuracy: 0.6154\n",
      "Epoch 8/9\n",
      "195/195 [==============================] - 67s 345ms/sample - loss: 0.6834 - accuracy: 0.6410 - val_loss: 0.6811 - val_accuracy: 0.6154\n",
      "Epoch 9/9\n",
      "195/195 [==============================] - 69s 351ms/sample - loss: 0.6792 - accuracy: 0.6410 - val_loss: 0.6739 - val_accuracy: 0.6154\n"
     ]
    }
   ],
   "source": [
    "# Train and validate CNN\n",
    "history = model.fit(train_images,\n",
    "                    train_labels,\n",
    "                    batch_size=batch_size,\n",
    "                    epochs=epochs,\n",
    "                    verbose=1,\n",
    "                    validation_data = (val_images, val_labels), \n",
    "                    use_multiprocessing=False)"
   ]
  },
  {
   "cell_type": "markdown",
   "metadata": {},
   "source": [
    "## Step 3: Evaluating the Model\n",
    "Plot the learning curves for the training and validation datasets, followed by testing via predicting the diagnoses of the mammograms in the test set."
   ]
  },
  {
   "cell_type": "code",
   "execution_count": 34,
   "metadata": {},
   "outputs": [
    {
     "data": {
      "image/png": "[encoded data removed]",
      "text/plain": [
       "<Figure size 1080x540 with 1 Axes>"
      ]
     },
     "metadata": {
      "needs_background": "light"
     },
     "output_type": "display_data"
    }
   ],
   "source": [
    "# Plot training & validation accuracy values\n",
    "plt.plot(history.history['accuracy'])\n",
    "plt.plot(history.history['val_accuracy'])\n",
    "plt.title('Model accuracy')\n",
    "plt.ylabel('Accuracy')\n",
    "plt.xlabel('Time (Epochs)')\n",
    "plt.legend(['Train', 'Validation'], loc='upper left')\n",
    "plt.show()"
   ]
  },
  {
   "cell_type": "code",
   "execution_count": 35,
   "metadata": {},
   "outputs": [
    {
     "data": {
      "image/png": "[encoded data removed]",
      "text/plain": [
       "<Figure size 1080x540 with 1 Axes>"
      ]
     },
     "metadata": {
      "needs_background": "light"
     },
     "output_type": "display_data"
    }
   ],
   "source": [
    "# Plot training & validation loss values\n",
    "plt.plot(history.history['loss'])\n",
    "plt.plot(history.history['val_loss'])\n",
    "plt.title('Model loss')\n",
    "plt.ylabel('Error (Loss)')\n",
    "plt.xlabel('Time (Epochs)')\n",
    "plt.legend(['Train', 'Validation'], loc='upper left')\n",
    "plt.show()"
   ]
  },
  {
   "cell_type": "code",
   "execution_count": 26,
   "metadata": {},
   "outputs": [
    {
     "name": "stdout",
     "output_type": "stream",
     "text": [
      "Calculating results...\n",
      "\n",
      "195/195 [==============================] - 5s 28ms/sample\n",
      "65/65 [==============================] - 2s 27ms/sample\n",
      "66/66 [==============================] - 2s 27ms/sample\n",
      "Performance after 9 epochs:\n",
      "* Accuracy on training set: 35.90%\n",
      "* Accuracy on validation set: 38.46%\n",
      "* Accuracy on Test set: 51.52%\n"
     ]
    }
   ],
   "source": [
    "# Compute final accuracy on training, validation, and test sets\n",
    "def compute_accuracy(y_true, y_pred):\n",
    "    pred = y_pred.ravel() < 0.5\n",
    "    return np.mean(pred == y_true)\n",
    "\n",
    "print('Calculating results...\\n')\n",
    "\n",
    "y_pred = model.predict((train_images, train_labels), verbose=1)\n",
    "tr_acc = compute_accuracy(train_labels, y_pred)\n",
    "\n",
    "y_pred = model.predict((val_images, val_labels), verbose=1)\n",
    "val_acc = compute_accuracy(val_labels, y_pred)\n",
    "\n",
    "y_pred = model.predict((test_images, test_labels), verbose=1)\n",
    "te_acc = compute_accuracy(test_labels, y_pred)\n",
    "\n",
    "# Print Results\n",
    "print('Performance after %s epochs:' % epochs)\n",
    "print('* Accuracy on training set: %0.2f%%' % (100 * tr_acc))\n",
    "print('* Accuracy on validation set: %0.2f%%' % (100 * val_acc))\n",
    "print('* Accuracy on Test set: %0.2f%%' % (100 * te_acc))"
   ]
  }
 ],
 "metadata": {
  "kernelspec": {
   "display_name": "Python 3",
   "language": "python",
   "name": "python3"
  },
  "language_info": {
   "codemirror_mode": {
    "name": "ipython",
    "version": 3
   },
   "file_extension": ".py",
   "mimetype": "text/x-python",
   "name": "python",
   "nbconvert_exporter": "python",
   "pygments_lexer": "ipython3",
   "version": "3.7.3"
  }
 },
 "nbformat": 4,
 "nbformat_minor": 2
}
